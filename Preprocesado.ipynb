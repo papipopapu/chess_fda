{
 "cells": [
  {
   "cell_type": "code",
   "execution_count": 10,
   "id": "f6a68cab",
   "metadata": {},
   "outputs": [],
   "source": [
    "import json\n",
    "\n",
    "with open('data.json', 'r', encoding='utf-8') as f:\n",
    "    games = json.load(f)\n",
    "\n",
    "for game in games:\n",
    "    game[4] = [-20 if eval < -20 else \n",
    "               20 if eval > 20 else\n",
    "               eval\n",
    "               for eval in game[4]]\n"
   ]
  },
  {
   "cell_type": "code",
   "execution_count": 11,
   "id": "092d8d4b",
   "metadata": {},
   "outputs": [],
   "source": [
    "for game in games:\n",
    "    evals = game[4]\n",
    "    outcome = game[2]\n",
    "    \n",
    "    # Determinar el valor a añadir según el resultado de la partida\n",
    "    if outcome == 'white':\n",
    "        fill_value = 25\n",
    "    elif outcome == 'black':\n",
    "        fill_value = -25\n",
    "    else:  # empate\n",
    "        fill_value = 0\n",
    "\n",
    "    if len(evals) > 100:\n",
    "        # Truncar a los primeros 90 y añadir los últimos 10 valores\n",
    "        evals = evals[:90]\n",
    "        evals = evals + [fill_value] * (100 - len(evals))\n",
    "    elif len(evals) <= 100:\n",
    "        # Añadir valores hasta alcanzar longitud 100\n",
    "        evals = evals + [fill_value] * (100 - len(evals))\n",
    "    \n",
    "    # Actualizar las evals en el juego\n",
    "    game[4] = evals\n"
   ]
  },
  {
   "cell_type": "code",
   "execution_count": 12,
   "id": "de9dd405",
   "metadata": {},
   "outputs": [],
   "source": [
    "import numpy as np\n",
    "\n",
    "X = np.asarray([game[4] for game in games]) / 25.0\n",
    "white_elos = [game[0] for game in games]\n",
    "black_elos = [game[1] for game in games]\n",
    "y =  np.asarray([(white + black) / 2 for white, black in zip(white_elos, black_elos)])\n",
    "\n",
    "np.save('X.npy', X)\n",
    "np.save('y.npy', y)"
   ]
  }
 ],
 "metadata": {
  "kernelspec": {
   "display_name": ".venv",
   "language": "python",
   "name": "python3"
  },
  "language_info": {
   "codemirror_mode": {
    "name": "ipython",
    "version": 3
   },
   "file_extension": ".py",
   "mimetype": "text/x-python",
   "name": "python",
   "nbconvert_exporter": "python",
   "pygments_lexer": "ipython3",
   "version": "3.12.10"
  }
 },
 "nbformat": 4,
 "nbformat_minor": 5
}
